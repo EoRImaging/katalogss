{
 "cells": [
  {
   "cell_type": "code",
   "execution_count": 1,
   "metadata": {
    "collapsed": false
   },
   "outputs": [
    {
     "name": "stdout",
     "output_type": "stream",
     "text": [
      "Populating the interactive namespace from numpy and matplotlib\n"
     ]
    }
   ],
   "source": [
    "%pylab inline\n",
    "import os\n",
    "import pickle\n",
    "import warnings\n",
    "import pandas as pd\n",
    "from astropy.wcs import WCS\n",
    "import katalogss.fhd_pype as fp\n",
    "import katalogss.katalogss as kg\n",
    "\n",
    "warnings.filterwarnings('ignore')\n"
   ]
  },
  {
   "cell_type": "markdown",
   "metadata": {},
   "source": [
    "The first part of this tutorial shows you how to get the data you need from the FHD output directories. This relies mostly on functions in the fhd_pype module. \n",
    "\n",
    "The function `fp.fhd_base()` returns the full path to the directory where the FHD output is located. It defaults to the common Aug23 output folder on the MIT cluster, but this can be assigned to another string using `fp.set_fhd_base(<new_path>)`."
   ]
  },
  {
   "cell_type": "code",
   "execution_count": 2,
   "metadata": {
    "collapsed": false
   },
   "outputs": [
    {
     "name": "stdout",
     "output_type": "stream",
     "text": [
      "The default path: /nfs/eor-09/r1/djc/EoR2013/Aug23/\n",
      "Our path: /astro/users/pcarroll/MWA/katalogss/katalogss/data/\n"
     ]
    }
   ],
   "source": [
    "print 'The default path: '+fp.fhd_base()\n",
    "fp.set_fhd_base(os.getcwd().strip('scripts')+'katalogss/data')\n",
    "print 'Our path: '+fp.fhd_base()\n"
   ]
  },
  {
   "cell_type": "markdown",
   "metadata": {},
   "source": [
    "We also need to define the version specifying the name of the run. This is equivalent to the case string in eor\\_firstpass\\_versions.pro, or the string following \"fhd\\_\" in the output directory name. \n",
    "\n",
    "The katalogss data directory includes a mock FHD output run and the relevant files for a single obsid. "
   ]
  },
  {
   "cell_type": "code",
   "execution_count": 3,
   "metadata": {
    "collapsed": false
   },
   "outputs": [
    {
     "name": "stdout",
     "output_type": "stream",
     "text": [
      "/astro/users/pcarroll/MWA/katalogss/katalogss/data/fhd_mock_run:\r\n",
      "deconvolution  katalogss  katalogss_old  metadata  output_data\r\n",
      "\r\n",
      "/astro/users/pcarroll/MWA/katalogss/katalogss/data/fhd_mock_run/deconvolution:\r\n",
      "1066580664_fhd_params.sav  1066580664_fhd.sav\r\n",
      "\r\n",
      "/astro/users/pcarroll/MWA/katalogss/katalogss/data/fhd_mock_run/katalogss:\r\n",
      "area_maps  components.p\r\n",
      "\r\n",
      "/astro/users/pcarroll/MWA/katalogss/katalogss/data/fhd_mock_run/katalogss/area_maps:\r\n",
      "1066580664_amap.fits\r\n",
      "\r\n",
      "/astro/users/pcarroll/MWA/katalogss/katalogss/data/fhd_mock_run/katalogss_old:\r\n",
      "area_maps  catalogs.p  components.p\r\n",
      "\r\n",
      "/astro/users/pcarroll/MWA/katalogss/katalogss/data/fhd_mock_run/katalogss_old/area_maps:\r\n",
      "1061316296_amap.fits\r\n",
      "\r\n",
      "/astro/users/pcarroll/MWA/katalogss/katalogss/data/fhd_mock_run/metadata:\r\n",
      "0:  1066580664_obs.sav\r\n",
      "\r\n",
      "/astro/users/pcarroll/MWA/katalogss/katalogss/data/fhd_mock_run/output_data:\r\n",
      "1066580664_Beam_XX.fits  1066580664_uniform_Residual_I.fits\r\n",
      "1066580664_Beam_YY.fits\r\n"
     ]
    }
   ],
   "source": [
    "fhd_run = 'mock_run'\n",
    "s = '%sfhd_%s'%(fp.fhd_base(),fhd_run)\n",
    "!ls -R $s"
   ]
  },
  {
   "cell_type": "markdown",
   "metadata": {},
   "source": [
    "Next we want to define the list of obsids we want to process. You can do this manually, or you can easily grab all obsids with deconvolution output for your run using:"
   ]
  },
  {
   "cell_type": "code",
   "execution_count": 4,
   "metadata": {
    "collapsed": false
   },
   "outputs": [
    {
     "data": {
      "text/plain": [
       "['1066580664']"
      ]
     },
     "execution_count": 4,
     "metadata": {},
     "output_type": "execute_result"
    }
   ],
   "source": [
    "obsids = fp.get_obslist(fhd_run)\n",
    "obsids"
   ]
  },
  {
   "cell_type": "markdown",
   "metadata": {},
   "source": [
    "Next we'll grab the source components and metadata for each obsid in the list. Note that if you don't supply the list of obsids, it will automatically run for all obsids. "
   ]
  },
  {
   "cell_type": "code",
   "execution_count": 5,
   "metadata": {
    "collapsed": false
   },
   "outputs": [
    {
     "name": "stdout",
     "output_type": "stream",
     "text": [
      "Fetching compoonent array from 1066580664_fhd.sav\n"
     ]
    }
   ],
   "source": [
    "comps  = fp.fetch_comps(fhd_run, obsids=obsids)\n",
    "meta = fp.fetch_meta(fhd_run,obsids=obsids)"
   ]
  },
  {
   "cell_type": "markdown",
   "metadata": {},
   "source": [
    "This returns a dictionary of dictionaries. Since it takes some work to run, let's cache it a new katalogss output directory."
   ]
  },
  {
   "cell_type": "code",
   "execution_count": 8,
   "metadata": {
    "collapsed": false
   },
   "outputs": [
    {
     "name": "stdout",
     "output_type": "stream",
     "text": [
      "saving %scomponent_arrays.p\n"
     ]
    },
    {
     "data": {
      "text/plain": [
       "{'1066580664': {'alpha': array([-0.80000001, -0.80000001, -0.80000001, ..., -0.80000001,\n",
       "         -0.80000001, -0.80000001]),\n",
       "  'dec': array([-27.73212051, -28.1602993 , -27.73209   , ..., -29.28472519,\n",
       "         -37.0483551 , -21.39456367]),\n",
       "  'flag': array([ 0.,  0.,  0., ...,  2.,  0.,  0.]),\n",
       "  'flux': array([ 2.02153563,  4.10171652,  1.82323956, ...,  0.01396699,\n",
       "          0.02448948,  0.00976452]),\n",
       "  'freq': array([ 182.43501282,  182.43501282,  182.43501282, ...,  182.43501282,\n",
       "          182.43501282,  182.43501282]),\n",
       "  'gain': array([ 0.1,  0.1,  0.1, ...,  0.1,  0.1,  0.1]),\n",
       "  'id': array([  4.00000000e+00,   0.00000000e+00,   4.00000000e+00, ...,\n",
       "           5.81100000e+03,  -1.00000000e+00,   2.53400000e+03]),\n",
       "  'ra': array([ 57.91218948,  71.16273499,  57.91217804, ...,  66.2097702 ,\n",
       "          55.21427155,  53.02481079]),\n",
       "  'x': array([ 1536.05639648,  1833.78259277,  1536.05615234, ...,  1723.52001953,\n",
       "          1465.60998535,  1412.20422363]),\n",
       "  'y': array([ 1459.33105469,  1430.35949707,  1459.33190918, ...,  1410.80688477,\n",
       "          1209.22814941,  1626.56591797])}}"
      ]
     },
     "execution_count": 8,
     "metadata": {},
     "output_type": "execute_result"
    }
   ],
   "source": [
    "kgs_out = '%sfhd_%s/katalogss/'%(fp.fhd_base(),fhd_run)\n",
    "if not os.path.exists(kgs_out): os.mkdir(kgs_out)\n",
    "\n",
    "print 'saving %scomponent_arrays.p'\n",
    "pickle.dump([comps,meta], open(kgs_out+'components.p','w'))\n",
    "comps"
   ]
  },
  {
   "cell_type": "markdown",
   "metadata": {},
   "source": [
    "If you need to come back to this later, restore it with\n",
    "\n",
    "`comps, meta = pickle.load(open(kgs_out+'component_arrays.p'))`"
   ]
  },
  {
   "cell_type": "code",
   "execution_count": 9,
   "metadata": {
    "collapsed": false
   },
   "outputs": [],
   "source": [
    "#comps, meta = pickle.load(open(kgs_out+'components.p'))"
   ]
  },
  {
   "cell_type": "markdown",
   "metadata": {},
   "source": [
    "Now we want to get the beam and residual maps. These are stored in fits files, and we read them into HDU objects with `data` and `header` attributes. \n",
    "\n",
    "The `get_maps` function works for any of the 2D images stored as fits in the 'output\\_data' directory. "
   ]
  },
  {
   "cell_type": "code",
   "execution_count": 10,
   "metadata": {
    "collapsed": false
   },
   "outputs": [],
   "source": [
    "beamxx, beamyy, residual = [fp.get_maps(fhd_run, obsids=obsids, imtype=imtype)\n",
    "                       for imtype in ('Beam_XX','Beam_YY','uniform_Residual_I')]"
   ]
  },
  {
   "cell_type": "markdown",
   "metadata": {},
   "source": [
    "To convert the residual maps from Jy/pixel to Jy/beam, we need the map of pixel areas in units of beam."
   ]
  },
  {
   "cell_type": "code",
   "execution_count": 11,
   "metadata": {
    "collapsed": false
   },
   "outputs": [],
   "source": [
    "pix2beam = fp.pixarea_maps(fhd_run, obsids=obsids, map_dir=kgs_out+'area_maps/')\n",
    "for o in obsids: residual[o].data*=pix2beam[o]"
   ]
  },
  {
   "cell_type": "markdown",
   "metadata": {},
   "source": [
    "Now we're ready to start source finding using the katalogss module. "
   ]
  },
  {
   "cell_type": "code",
   "execution_count": 14,
   "metadata": {
    "collapsed": false,
    "scrolled": true
   },
   "outputs": [],
   "source": [
    "#clustering parameters\n",
    "eps_factor = 0.25\n",
    "min_samples = 1\n",
    "\n",
    "catalog={}\n",
    "\n",
    "for obsid in obsids:\n",
    "    cmps = pd.DataFrame(comps[obsid])\n",
    "    cmps = kg.clip_comps(cmps)\n",
    "\n",
    "    beam = beamxx[obsid].copy()\n",
    "    beam.data = np.sqrt(np.mean([beamxx[obsid].data**2, beamyy[obsid].data**2],axis=0))\n",
    "\n",
    "    eps = eps_factor * meta[obsid]['beam_width']\n",
    "    cmps = kg.cluster_sources(cmps, eps, min_samples)\n",
    "\n",
    "    catalog[obsid] = kg.catalog_sources(cmps, meta[obsid], residual[obsid], beam)"
   ]
  },
  {
   "cell_type": "code",
   "execution_count": 15,
   "metadata": {
    "collapsed": false
   },
   "outputs": [
    {
     "data": {
      "text/html": [
       "<div>\n",
       "<table border=\"1\" class=\"dataframe\">\n",
       "  <thead>\n",
       "    <tr style=\"text-align: right;\">\n",
       "      <th></th>\n",
       "      <th>id</th>\n",
       "      <th>ncomp</th>\n",
       "      <th>ra</th>\n",
       "      <th>sig_ra</th>\n",
       "      <th>dec</th>\n",
       "      <th>sig_dec</th>\n",
       "      <th>flux</th>\n",
       "      <th>x</th>\n",
       "      <th>y</th>\n",
       "      <th>beam</th>\n",
       "      <th>sig_flux</th>\n",
       "      <th>ext</th>\n",
       "    </tr>\n",
       "  </thead>\n",
       "  <tbody>\n",
       "    <tr>\n",
       "      <th>0</th>\n",
       "      <td>0</td>\n",
       "      <td>17</td>\n",
       "      <td>57.912690</td>\n",
       "      <td>0.001136</td>\n",
       "      <td>-27.731572</td>\n",
       "      <td>0.000908</td>\n",
       "      <td>20.607863</td>\n",
       "      <td>1537</td>\n",
       "      <td>1460</td>\n",
       "      <td>0.870620</td>\n",
       "      <td>0.015610</td>\n",
       "      <td>False</td>\n",
       "    </tr>\n",
       "    <tr>\n",
       "      <th>1</th>\n",
       "      <td>1</td>\n",
       "      <td>30</td>\n",
       "      <td>71.161941</td>\n",
       "      <td>0.002146</td>\n",
       "      <td>-28.160433</td>\n",
       "      <td>0.002305</td>\n",
       "      <td>43.623094</td>\n",
       "      <td>1835</td>\n",
       "      <td>1431</td>\n",
       "      <td>0.314305</td>\n",
       "      <td>0.037504</td>\n",
       "      <td>False</td>\n",
       "    </tr>\n",
       "    <tr>\n",
       "      <th>2</th>\n",
       "      <td>2</td>\n",
       "      <td>27</td>\n",
       "      <td>64.015560</td>\n",
       "      <td>0.000093</td>\n",
       "      <td>-20.938997</td>\n",
       "      <td>0.000322</td>\n",
       "      <td>14.716517</td>\n",
       "      <td>1686</td>\n",
       "      <td>1638</td>\n",
       "      <td>0.634651</td>\n",
       "      <td>0.020489</td>\n",
       "      <td>False</td>\n",
       "    </tr>\n",
       "    <tr>\n",
       "      <th>3</th>\n",
       "      <td>3</td>\n",
       "      <td>24</td>\n",
       "      <td>57.872148</td>\n",
       "      <td>0.001058</td>\n",
       "      <td>-14.488509</td>\n",
       "      <td>0.003805</td>\n",
       "      <td>23.169188</td>\n",
       "      <td>1527</td>\n",
       "      <td>1812</td>\n",
       "      <td>0.396126</td>\n",
       "      <td>0.030734</td>\n",
       "      <td>False</td>\n",
       "    </tr>\n",
       "    <tr>\n",
       "      <th>4</th>\n",
       "      <td>4</td>\n",
       "      <td>25</td>\n",
       "      <td>62.209217</td>\n",
       "      <td>0.000679</td>\n",
       "      <td>-24.302575</td>\n",
       "      <td>0.000061</td>\n",
       "      <td>10.277728</td>\n",
       "      <td>1641</td>\n",
       "      <td>1550</td>\n",
       "      <td>0.796489</td>\n",
       "      <td>0.016852</td>\n",
       "      <td>False</td>\n",
       "    </tr>\n",
       "    <tr>\n",
       "      <th>5</th>\n",
       "      <td>5</td>\n",
       "      <td>27</td>\n",
       "      <td>52.146617</td>\n",
       "      <td>0.000146</td>\n",
       "      <td>-28.697057</td>\n",
       "      <td>0.000396</td>\n",
       "      <td>10.571080</td>\n",
       "      <td>1399</td>\n",
       "      <td>1431</td>\n",
       "      <td>0.738417</td>\n",
       "      <td>0.017986</td>\n",
       "      <td>False</td>\n",
       "    </tr>\n",
       "    <tr>\n",
       "      <th>6</th>\n",
       "      <td>6</td>\n",
       "      <td>29</td>\n",
       "      <td>52.291740</td>\n",
       "      <td>0.000646</td>\n",
       "      <td>-26.004686</td>\n",
       "      <td>0.000107</td>\n",
       "      <td>8.043195</td>\n",
       "      <td>1400</td>\n",
       "      <td>1503</td>\n",
       "      <td>0.809474</td>\n",
       "      <td>0.016619</td>\n",
       "      <td>False</td>\n",
       "    </tr>\n",
       "    <tr>\n",
       "      <th>7</th>\n",
       "      <td>7</td>\n",
       "      <td>31</td>\n",
       "      <td>44.060973</td>\n",
       "      <td>0.000188</td>\n",
       "      <td>-23.414189</td>\n",
       "      <td>0.000175</td>\n",
       "      <td>19.685439</td>\n",
       "      <td>1186</td>\n",
       "      <td>1556</td>\n",
       "      <td>0.305076</td>\n",
       "      <td>0.038478</td>\n",
       "      <td>False</td>\n",
       "    </tr>\n",
       "    <tr>\n",
       "      <th>8</th>\n",
       "      <td>8</td>\n",
       "      <td>26</td>\n",
       "      <td>63.785760</td>\n",
       "      <td>0.001085</td>\n",
       "      <td>-29.482654</td>\n",
       "      <td>0.000842</td>\n",
       "      <td>10.288576</td>\n",
       "      <td>1670</td>\n",
       "      <td>1409</td>\n",
       "      <td>0.632137</td>\n",
       "      <td>0.020559</td>\n",
       "      <td>False</td>\n",
       "    </tr>\n",
       "    <tr>\n",
       "      <th>9</th>\n",
       "      <td>9</td>\n",
       "      <td>28</td>\n",
       "      <td>60.067256</td>\n",
       "      <td>0.000380</td>\n",
       "      <td>-16.167808</td>\n",
       "      <td>0.001243</td>\n",
       "      <td>13.205410</td>\n",
       "      <td>1586</td>\n",
       "      <td>1767</td>\n",
       "      <td>0.497452</td>\n",
       "      <td>0.025265</td>\n",
       "      <td>False</td>\n",
       "    </tr>\n",
       "  </tbody>\n",
       "</table>\n",
       "</div>"
      ],
      "text/plain": [
       "   id  ncomp         ra    sig_ra        dec   sig_dec       flux     x     y  \\\n",
       "0   0     17  57.912690  0.001136 -27.731572  0.000908  20.607863  1537  1460   \n",
       "1   1     30  71.161941  0.002146 -28.160433  0.002305  43.623094  1835  1431   \n",
       "2   2     27  64.015560  0.000093 -20.938997  0.000322  14.716517  1686  1638   \n",
       "3   3     24  57.872148  0.001058 -14.488509  0.003805  23.169188  1527  1812   \n",
       "4   4     25  62.209217  0.000679 -24.302575  0.000061  10.277728  1641  1550   \n",
       "5   5     27  52.146617  0.000146 -28.697057  0.000396  10.571080  1399  1431   \n",
       "6   6     29  52.291740  0.000646 -26.004686  0.000107   8.043195  1400  1503   \n",
       "7   7     31  44.060973  0.000188 -23.414189  0.000175  19.685439  1186  1556   \n",
       "8   8     26  63.785760  0.001085 -29.482654  0.000842  10.288576  1670  1409   \n",
       "9   9     28  60.067256  0.000380 -16.167808  0.001243  13.205410  1586  1767   \n",
       "\n",
       "       beam  sig_flux    ext  \n",
       "0  0.870620  0.015610  False  \n",
       "1  0.314305  0.037504  False  \n",
       "2  0.634651  0.020489  False  \n",
       "3  0.396126  0.030734  False  \n",
       "4  0.796489  0.016852  False  \n",
       "5  0.738417  0.017986  False  \n",
       "6  0.809474  0.016619  False  \n",
       "7  0.305076  0.038478  False  \n",
       "8  0.632137  0.020559  False  \n",
       "9  0.497452  0.025265  False  "
      ]
     },
     "execution_count": 15,
     "metadata": {},
     "output_type": "execute_result"
    }
   ],
   "source": [
    "cat = catalog[obsid]\n",
    "cat.head(10)"
   ]
  },
  {
   "cell_type": "code",
   "execution_count": 16,
   "metadata": {
    "collapsed": false
   },
   "outputs": [
    {
     "data": {
      "text/plain": [
       "<matplotlib.text.Text at 0x7f08d0b0e990>"
      ]
     },
     "execution_count": 16,
     "metadata": {},
     "output_type": "execute_result"
    },
    {
     "data": {
      "image/png": "[encoded data removed]",
      "text/plain": [
       "<matplotlib.figure.Figure at 0x7f08d0ba2ad0>"
      ]
     },
     "metadata": {},
     "output_type": "display_data"
    }
   ],
   "source": [
    "wcs = WCS(resi.header)\n",
    "plt.figure(figsize=(10,8))\n",
    "ax = plt.subplot(111,projection=wcs)\n",
    "x,y = wcs.wcs_world2pix(cat.ra, cat.dec,1)\n",
    "ax.scatter(x,y,s=cat.flux,edgecolor='none')\n",
    "lon,lat = ax.coords\n",
    "lon.set_axislabel('RA',fontsize=16)\n",
    "lat.set_axislabel('Dec',fontsize=16)\n",
    "ax.set_title(obsid,fontsize=20)"
   ]
  },
  {
   "cell_type": "code",
   "execution_count": 17,
   "metadata": {
    "collapsed": true
   },
   "outputs": [],
   "source": [
    "pickle.dump(catalog, open(kgs_out+'catalogs.p','w'))"
   ]
  },
  {
   "cell_type": "code",
   "execution_count": null,
   "metadata": {
    "collapsed": true
   },
   "outputs": [],
   "source": []
  }
 ],
 "metadata": {
  "kernelspec": {
   "display_name": "Python 2",
   "language": "python",
   "name": "python2"
  },
  "language_info": {
   "codemirror_mode": {
    "name": "ipython",
    "version": 2
   },
   "file_extension": ".py",
   "mimetype": "text/x-python",
   "name": "python",
   "nbconvert_exporter": "python",
   "pygments_lexer": "ipython2",
   "version": "2.7.11"
  }
 },
 "nbformat": 4,
 "nbformat_minor": 0
}
