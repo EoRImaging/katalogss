{
 "cells": [
  {
   "cell_type": "code",
   "execution_count": 1,
   "metadata": {
    "collapsed": false
   },
   "outputs": [
    {
     "name": "stdout",
     "output_type": "stream",
     "text": [
      "Populating the interactive namespace from numpy and matplotlib\n"
     ]
    }
   ],
   "source": [
    "%pylab inline\n",
    "import fhd_pype as fp\n",
    "import katalogss as kg\n",
    "import pandas as pd\n",
    "from astropy.wcs import WCS\n",
    "import os\n",
    "import pickle\n",
    "import warnings\n",
    "warnings.filterwarnings('ignore')"
   ]
  },
  {
   "cell_type": "markdown",
   "metadata": {},
   "source": [
    "The first part of this tutorial shows you how to get the data you need from the FHD output directories. This relies mostly on functions in the fhd_pype module. \n",
    "\n",
    "The attribute `fp.fhd_base` is the full path to the directory where the FHD output is located. It defaults to the common Aug23 output folder on the MIT cluster, but this can be assigned to another string using `fp.set_fhd_base(<new_path>)`."
   ]
  },
  {
   "cell_type": "code",
   "execution_count": 2,
   "metadata": {
    "collapsed": false
   },
   "outputs": [
    {
     "name": "stdout",
     "output_type": "stream",
     "text": [
      "The default path: /nfs/eor-09/r1/djc/EoR2013/Aug23/\n",
      "Our path: /astro/users/pcarroll/katalogss/katalogss/data/\n"
     ]
    }
   ],
   "source": [
    "print 'The default path: '+fp.fhd_base\n",
    "fp.set_fhd_base(os.getcwd().strip('scripts')+'katalogss/data')\n",
    "print 'Our path: '+fp.fhd_base\n"
   ]
  },
  {
   "cell_type": "markdown",
   "metadata": {},
   "source": [
    "We also need to define the version specifying the name of the run. This is equivalent to the case string in eor\\_firstpass\\_versions.pro, or the string following \"fhd\\_\" in the output directory name. \n",
    "\n",
    "The katalogss data directory includes a mock FHD output run and the relevant files for a single obsid. "
   ]
  },
  {
   "cell_type": "code",
   "execution_count": 3,
   "metadata": {
    "collapsed": false
   },
   "outputs": [
    {
     "name": "stdout",
     "output_type": "stream",
     "text": [
      "/astro/users/pcarroll/katalogss/katalogss/data/fhd_mock_run:\r\n",
      "deconvolution  katalogss  metadata  output_data\r\n",
      "\r\n",
      "/astro/users/pcarroll/katalogss/katalogss/data/fhd_mock_run/deconvolution:\r\n",
      "1061316296_fhd_params.sav  1061316296_fhd.sav\r\n",
      "\r\n",
      "/astro/users/pcarroll/katalogss/katalogss/data/fhd_mock_run/katalogss:\r\n",
      "catalogs.p  components.p\r\n",
      "\r\n",
      "/astro/users/pcarroll/katalogss/katalogss/data/fhd_mock_run/metadata:\r\n",
      "0:  1061316296_obs.sav\r\n",
      "\r\n",
      "/astro/users/pcarroll/katalogss/katalogss/data/fhd_mock_run/output_data:\r\n",
      "1061316296_Beam_XX.fits  1061316296_uniform_Residual_I.fits\r\n",
      "1061316296_Beam_YY.fits\r\n"
     ]
    }
   ],
   "source": [
    "fhd_run = 'mock_run'\n",
    "s = '%sfhd_%s'%(fp.fhd_base,fhd_run)\n",
    "!ls -R $s"
   ]
  },
  {
   "cell_type": "markdown",
   "metadata": {},
   "source": [
    "Next we want to define the list of obsids we want to process. You can do this manually, or you can easily grab all obsids with deconvolution output for your run using:"
   ]
  },
  {
   "cell_type": "code",
   "execution_count": 4,
   "metadata": {
    "collapsed": false
   },
   "outputs": [
    {
     "data": {
      "text/plain": [
       "['1061316296']"
      ]
     },
     "execution_count": 4,
     "metadata": {},
     "output_type": "execute_result"
    }
   ],
   "source": [
    "obsids = fp.get_obslist(fhd_run)\n",
    "obsids"
   ]
  },
  {
   "cell_type": "markdown",
   "metadata": {},
   "source": [
    "Next we'll grab the source components and metadata for each obsid in the list. Note that if you don't supply the list of obsids, it will automatically run for all obsids. "
   ]
  },
  {
   "cell_type": "code",
   "execution_count": 5,
   "metadata": {
    "collapsed": false
   },
   "outputs": [
    {
     "name": "stdout",
     "output_type": "stream",
     "text": [
      "fetching data for obsid: 1061316296\n"
     ]
    }
   ],
   "source": [
    "comps  = fp.fetch_comps(fhd_run, obsids=obsids)\n",
    "meta = fp.fetch_meta(fhd_run,obsids=obsids)"
   ]
  },
  {
   "cell_type": "markdown",
   "metadata": {},
   "source": [
    "This returns a dictionary of dictionaries. Since it takes some work to run, let's cache it a new katalogss output directory."
   ]
  },
  {
   "cell_type": "code",
   "execution_count": 6,
   "metadata": {
    "collapsed": false
   },
   "outputs": [
    {
     "name": "stdout",
     "output_type": "stream",
     "text": [
      "saving %scomponent_arrays.p\n"
     ]
    },
    {
     "data": {
      "text/plain": [
       "{'1061316296': {'alpha': array([ 0.,  0.,  0., ...,  0.,  0.,  0.]),\n",
       "  'dec': array([-26.03976631, -29.4828701 , -34.76684952, ..., -10.56233501,\n",
       "         -12.88454533, -27.67883682]),\n",
       "  'flux': array([ 3.63646865,  2.9651382 ,  3.61803126, ...,  0.27594849,\n",
       "          0.1737764 ,  0.01843463]),\n",
       "  'freq': array([ 100.,  100.,  100., ...,  100.,  100.,  100.]),\n",
       "  'gain': array([ 0.2,  0.2,  0.2, ...,  1. ,  1. ,  1. ]),\n",
       "  'id': array([  0.00000000e+00,   1.00000000e+00,   2.00000000e+00, ...,\n",
       "           4.61800000e+03,   4.65800000e+03,   4.67200000e+03]),\n",
       "  'ra': array([   6.46166897,    6.13235378,  359.25888062, ...,  355.26947021,\n",
       "            9.60587025,    0.6719631 ]),\n",
       "  'x': array([ 1763.62927246,  1745.60046387,  1517.37182617, ...,  1363.29394531,\n",
       "          1899.45178223,  1563.96972656]),\n",
       "  'y': array([ 1558.63867188,  1427.20422363,  1230.39257812, ...,  2147.49804688,\n",
       "          2050.52783203,  1501.53552246])}}"
      ]
     },
     "execution_count": 6,
     "metadata": {},
     "output_type": "execute_result"
    }
   ],
   "source": [
    "kgs_out = '%sfhd_%s/katalogss/'%(fp.fhd_base,fhd_run)\n",
    "if not os.path.exists(kgs_out): os.mkdir(kgs_out)\n",
    "\n",
    "print 'saving %scomponent_arrays.p'\n",
    "pickle.dump([comps,meta], open(kgs_out+'components.p','w'))\n",
    "comps"
   ]
  },
  {
   "cell_type": "markdown",
   "metadata": {},
   "source": [
    "If you need to come back to this later, restore it with\n",
    "\n",
    "`comps, meta = pickle.load(open(kgs_out+'component_arrays.p'))`"
   ]
  },
  {
   "cell_type": "code",
   "execution_count": 7,
   "metadata": {
    "collapsed": false
   },
   "outputs": [],
   "source": [
    "comps, meta = pickle.load(open(kgs_out+'components.p'))"
   ]
  },
  {
   "cell_type": "markdown",
   "metadata": {},
   "source": [
    "Now we want to get the beam and residual maps. These are stored in fits files, and we read them into HDU objects with `data` and `header` attributes. \n",
    "\n",
    "The `get_maps` function works for any of the 2D images stored as fits in the 'output\\_data' directory. "
   ]
  },
  {
   "cell_type": "code",
   "execution_count": 8,
   "metadata": {
    "collapsed": false
   },
   "outputs": [],
   "source": [
    "beamxx, beamyy, residual = [fp.get_maps(fhd_run, obsids=obsids, imtype=imtype)\n",
    "                       for imtype in ('Beam_XX','Beam_YY','uniform_Residual_I')]"
   ]
  },
  {
   "cell_type": "markdown",
   "metadata": {},
   "source": [
    "To convert the residual maps from Jy/pixel to Jy/beam, we need the map of pixel areas in units of beam."
   ]
  },
  {
   "cell_type": "code",
   "execution_count": 9,
   "metadata": {
    "collapsed": false
   },
   "outputs": [
    {
     "name": "stdout",
     "output_type": "stream",
     "text": [
      "% Compiled module: PIXEL_AREA.\n",
      "% Compiled module: MESHGRID.\n",
      "% Compiled module: APPLY_ASTROMETRY.\n",
      "% Compiled module: XY2AD.\n",
      "% Compiled module: TAG_EXIST.\n",
      "% Compiled module: ANG2VEC.\n",
      "% Compiled module: DATATYPE.\n",
      "% Compiled module: WRITEFITS.\n",
      "% Compiled module: MKHDR.\n",
      "% Compiled module: SXADDPAR.\n",
      "% Compiled module: GET_DATE.\n",
      "% Compiled module: DAYCNV.\n",
      "% Compiled module: SXDELPAR.\n",
      "% Compiled module: SXPAR.\n",
      "% Compiled module: GETTOK.\n"
     ]
    }
   ],
   "source": [
    "pix2beam = fp.pixarea_maps(fhd_run, obsids=obsids, map_dir=kgs_out+'area_maps/')\n",
    "for o in obsids: residual[o].data*=pix2beam[o]"
   ]
  },
  {
   "cell_type": "markdown",
   "metadata": {},
   "source": [
    "Now we're ready to start source finding using the katalogss module. "
   ]
  },
  {
   "cell_type": "code",
   "execution_count": 10,
   "metadata": {
    "collapsed": false,
    "scrolled": true
   },
   "outputs": [],
   "source": [
    "#clustering parameters\n",
    "eps_factor = 0.25\n",
    "min_samples = 1\n",
    "\n",
    "catalog={}\n",
    "\n",
    "for obsid in obsids:\n",
    "    cmps = pd.DataFrame(comps[obsid])\n",
    "    cmps = kg.clip_comps(cmps)\n",
    "\n",
    "    beam = beamxx[obsid].copy()\n",
    "    beam.data = np.sqrt(np.mean([beamxx[obsid].data**2, beamyy[obsid].data**2],axis=0))\n",
    "\n",
    "    resi = residual[obsid]\n",
    "\n",
    "    eps = eps_factor * meta[obsid]['beam_width']\n",
    "    cmps = kg.cluster_sources(cmps, eps, min_samples)\n",
    "\n",
    "    catalog[obsid] = kg.catalog_sources(cmps, resi, beam)"
   ]
  },
  {
   "cell_type": "code",
   "execution_count": 11,
   "metadata": {
    "collapsed": false
   },
   "outputs": [
    {
     "data": {
      "text/html": [
       "<div>\n",
       "<table border=\"1\" class=\"dataframe\">\n",
       "  <thead>\n",
       "    <tr style=\"text-align: right;\">\n",
       "      <th></th>\n",
       "      <th>id</th>\n",
       "      <th>ncomp</th>\n",
       "      <th>ra</th>\n",
       "      <th>sig_ra</th>\n",
       "      <th>dec</th>\n",
       "      <th>sig_dec</th>\n",
       "      <th>flux</th>\n",
       "      <th>x</th>\n",
       "      <th>y</th>\n",
       "      <th>beam</th>\n",
       "      <th>sig_flux</th>\n",
       "    </tr>\n",
       "  </thead>\n",
       "  <tbody>\n",
       "    <tr>\n",
       "      <th>0</th>\n",
       "      <td>0</td>\n",
       "      <td>26</td>\n",
       "      <td>6.457976</td>\n",
       "      <td>0.002720</td>\n",
       "      <td>-26.039116</td>\n",
       "      <td>0.000557</td>\n",
       "      <td>21.798637</td>\n",
       "      <td>1764</td>\n",
       "      <td>1559</td>\n",
       "      <td>0.789078</td>\n",
       "      <td>0.008516</td>\n",
       "    </tr>\n",
       "    <tr>\n",
       "      <th>1</th>\n",
       "      <td>1</td>\n",
       "      <td>25</td>\n",
       "      <td>6.129425</td>\n",
       "      <td>0.002044</td>\n",
       "      <td>-29.483239</td>\n",
       "      <td>0.000744</td>\n",
       "      <td>17.081256</td>\n",
       "      <td>1746</td>\n",
       "      <td>1428</td>\n",
       "      <td>0.777026</td>\n",
       "      <td>0.008645</td>\n",
       "    </tr>\n",
       "    <tr>\n",
       "      <th>2</th>\n",
       "      <td>2</td>\n",
       "      <td>26</td>\n",
       "      <td>359.257912</td>\n",
       "      <td>0.002159</td>\n",
       "      <td>-34.763922</td>\n",
       "      <td>0.002619</td>\n",
       "      <td>21.675058</td>\n",
       "      <td>1518</td>\n",
       "      <td>1231</td>\n",
       "      <td>0.629367</td>\n",
       "      <td>0.010621</td>\n",
       "    </tr>\n",
       "    <tr>\n",
       "      <th>3</th>\n",
       "      <td>3</td>\n",
       "      <td>30</td>\n",
       "      <td>357.708171</td>\n",
       "      <td>0.003077</td>\n",
       "      <td>-24.953032</td>\n",
       "      <td>0.001887</td>\n",
       "      <td>10.715241</td>\n",
       "      <td>1462</td>\n",
       "      <td>1606</td>\n",
       "      <td>0.946461</td>\n",
       "      <td>0.007130</td>\n",
       "    </tr>\n",
       "    <tr>\n",
       "      <th>4</th>\n",
       "      <td>4</td>\n",
       "      <td>16</td>\n",
       "      <td>5.791854</td>\n",
       "      <td>0.001379</td>\n",
       "      <td>-25.044779</td>\n",
       "      <td>0.000281</td>\n",
       "      <td>10.032890</td>\n",
       "      <td>1743</td>\n",
       "      <td>1598</td>\n",
       "      <td>0.811237</td>\n",
       "      <td>0.008289</td>\n",
       "    </tr>\n",
       "    <tr>\n",
       "      <th>5</th>\n",
       "      <td>5</td>\n",
       "      <td>22</td>\n",
       "      <td>8.791498</td>\n",
       "      <td>0.000399</td>\n",
       "      <td>-20.067428</td>\n",
       "      <td>0.000518</td>\n",
       "      <td>12.798044</td>\n",
       "      <td>1858</td>\n",
       "      <td>1782</td>\n",
       "      <td>0.457040</td>\n",
       "      <td>0.014518</td>\n",
       "    </tr>\n",
       "    <tr>\n",
       "      <th>6</th>\n",
       "      <td>6</td>\n",
       "      <td>24</td>\n",
       "      <td>355.444419</td>\n",
       "      <td>0.000521</td>\n",
       "      <td>-35.110706</td>\n",
       "      <td>0.000655</td>\n",
       "      <td>10.600893</td>\n",
       "      <td>1398</td>\n",
       "      <td>1215</td>\n",
       "      <td>0.541539</td>\n",
       "      <td>0.012301</td>\n",
       "    </tr>\n",
       "    <tr>\n",
       "      <th>7</th>\n",
       "      <td>7</td>\n",
       "      <td>23</td>\n",
       "      <td>349.985373</td>\n",
       "      <td>0.001306</td>\n",
       "      <td>-27.459394</td>\n",
       "      <td>0.008506</td>\n",
       "      <td>11.292697</td>\n",
       "      <td>1202</td>\n",
       "      <td>1498</td>\n",
       "      <td>0.553379</td>\n",
       "      <td>0.012044</td>\n",
       "    </tr>\n",
       "    <tr>\n",
       "      <th>8</th>\n",
       "      <td>8</td>\n",
       "      <td>24</td>\n",
       "      <td>6.382033</td>\n",
       "      <td>0.006912</td>\n",
       "      <td>-33.068250</td>\n",
       "      <td>0.009776</td>\n",
       "      <td>8.124428</td>\n",
       "      <td>1746</td>\n",
       "      <td>1290</td>\n",
       "      <td>0.612051</td>\n",
       "      <td>0.010915</td>\n",
       "    </tr>\n",
       "    <tr>\n",
       "      <th>9</th>\n",
       "      <td>9</td>\n",
       "      <td>23</td>\n",
       "      <td>352.947386</td>\n",
       "      <td>0.002235</td>\n",
       "      <td>-24.872505</td>\n",
       "      <td>0.000381</td>\n",
       "      <td>6.399138</td>\n",
       "      <td>1297</td>\n",
       "      <td>1603</td>\n",
       "      <td>0.727829</td>\n",
       "      <td>0.009215</td>\n",
       "    </tr>\n",
       "  </tbody>\n",
       "</table>\n",
       "</div>"
      ],
      "text/plain": [
       "   id  ncomp          ra    sig_ra        dec   sig_dec       flux     x  \\\n",
       "0   0     26    6.457976  0.002720 -26.039116  0.000557  21.798637  1764   \n",
       "1   1     25    6.129425  0.002044 -29.483239  0.000744  17.081256  1746   \n",
       "2   2     26  359.257912  0.002159 -34.763922  0.002619  21.675058  1518   \n",
       "3   3     30  357.708171  0.003077 -24.953032  0.001887  10.715241  1462   \n",
       "4   4     16    5.791854  0.001379 -25.044779  0.000281  10.032890  1743   \n",
       "5   5     22    8.791498  0.000399 -20.067428  0.000518  12.798044  1858   \n",
       "6   6     24  355.444419  0.000521 -35.110706  0.000655  10.600893  1398   \n",
       "7   7     23  349.985373  0.001306 -27.459394  0.008506  11.292697  1202   \n",
       "8   8     24    6.382033  0.006912 -33.068250  0.009776   8.124428  1746   \n",
       "9   9     23  352.947386  0.002235 -24.872505  0.000381   6.399138  1297   \n",
       "\n",
       "      y      beam  sig_flux  \n",
       "0  1559  0.789078  0.008516  \n",
       "1  1428  0.777026  0.008645  \n",
       "2  1231  0.629367  0.010621  \n",
       "3  1606  0.946461  0.007130  \n",
       "4  1598  0.811237  0.008289  \n",
       "5  1782  0.457040  0.014518  \n",
       "6  1215  0.541539  0.012301  \n",
       "7  1498  0.553379  0.012044  \n",
       "8  1290  0.612051  0.010915  \n",
       "9  1603  0.727829  0.009215  "
      ]
     },
     "execution_count": 11,
     "metadata": {},
     "output_type": "execute_result"
    }
   ],
   "source": [
    "cat = catalog[obsid]\n",
    "cat.head(10)"
   ]
  },
  {
   "cell_type": "code",
   "execution_count": 12,
   "metadata": {
    "collapsed": false
   },
   "outputs": [
    {
     "data": {
      "text/plain": [
       "<matplotlib.text.Text at 0x7f683ac05810>"
      ]
     },
     "execution_count": 12,
     "metadata": {},
     "output_type": "execute_result"
    },
    {
     "data": {
      "image/png": "[encoded data removed]",
      "text/plain": [
       "<matplotlib.figure.Figure at 0x7f683a9d3a50>"
      ]
     },
     "metadata": {},
     "output_type": "display_data"
    }
   ],
   "source": [
    "wcs = WCS(resi.header)\n",
    "plt.figure(figsize=(10,8))\n",
    "ax = plt.subplot(111,projection=wcs)\n",
    "x,y = wcs.wcs_world2pix(cat.ra, cat.dec,1)\n",
    "ax.scatter(x,y,s=cat.flux,edgecolor='none')\n",
    "lon,lat = ax.coords\n",
    "lon.set_axislabel('RA',fontsize=16)\n",
    "lat.set_axislabel('Dec',fontsize=16)\n",
    "ax.set_title(obsid,fontsize=20)"
   ]
  },
  {
   "cell_type": "code",
   "execution_count": 13,
   "metadata": {
    "collapsed": true
   },
   "outputs": [],
   "source": [
    "pickle.dump(catalog, open(kgs_out+'catalogs.p','w'))"
   ]
  },
  {
   "cell_type": "markdown",
   "metadata": {},
   "source": [
    "Once we've cataloged the sources for each obsid we can cross-match them."
   ]
  },
  {
   "cell_type": "code",
   "execution_count": null,
   "metadata": {
    "collapsed": true
   },
   "outputs": [],
   "source": []
  }
 ],
 "metadata": {
  "kernelspec": {
   "display_name": "Python 2",
   "language": "python",
   "name": "python2"
  },
  "language_info": {
   "codemirror_mode": {
    "name": "ipython",
    "version": 2
   },
   "file_extension": ".py",
   "mimetype": "text/x-python",
   "name": "python",
   "nbconvert_exporter": "python",
   "pygments_lexer": "ipython2",
   "version": "2.7.11"
  }
 },
 "nbformat": 4,
 "nbformat_minor": 0
}
